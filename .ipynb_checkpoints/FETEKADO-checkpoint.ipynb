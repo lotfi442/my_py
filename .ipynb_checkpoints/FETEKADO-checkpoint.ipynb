{
 "cells": [
  {
   "cell_type": "code",
   "execution_count": 5,
   "metadata": {},
   "outputs": [
    {
     "name": "stdout",
     "output_type": "stream",
     "text": [
      "['Hachem Mosbah', 'Yoann Lucido', 'Ines Dridi', 'Daniel Kaddous', 'Denys Pes', 'Sacha Kojic', 'Jonathan Belletrud', 'Hachem Baya', 'Dylan Poinsu', 'Joshua Harris', 'Jonathan Michel', 'Yacine Bourezak', 'Samba Cisse', 'Noemie Sauer', 'Rafk Lachaal', 'Romain Grimaldi', 'Sabine Nasr', 'Ludovic Randon']\n"
     ]
    }
   ],
   "source": [
    "import random\n",
    "\n",
    "liste = [\"Samba Cisse\", \"Rafk Lachaal\", \"Jonathan Michel\", \"Hachem Mosbah\", \"Ines Dridi\", \"Ludovic Randon\", \n",
    "\"Yoann Lucido\", \"Noemie Sauer\", \"Sabine Nasr\", \"Romain Grimaldi\", \n",
    "\"Sacha Kojic\", \"Joshua Harris\", \"Dylan Poinsu\", \"Daniel Kaddous\", \n",
    "\"Yacine Bourezak\", \"Denys Pes\", \"Jonathan Belletrud\", \"Hachem Baya\"]\n",
    "random.shuffle(liste)\n",
    "\n",
    "print(liste)\n",
    "\n",
    "\n",
    "\n",
    "\n",
    " \n"
   ]
  },
  {
   "cell_type": "code",
   "execution_count": null,
   "metadata": {},
   "outputs": [],
   "source": []
  },
  {
   "cell_type": "code",
   "execution_count": null,
   "metadata": {},
   "outputs": [],
   "source": []
  }
 ],
 "metadata": {
  "kernelspec": {
   "display_name": "Python 3",
   "language": "python",
   "name": "python3"
  },
  "language_info": {
   "codemirror_mode": {
    "name": "ipython",
    "version": 3
   },
   "file_extension": ".py",
   "mimetype": "text/x-python",
   "name": "python",
   "nbconvert_exporter": "python",
   "pygments_lexer": "ipython3",
   "version": "3.7.4"
  }
 },
 "nbformat": 4,
 "nbformat_minor": 2
}
