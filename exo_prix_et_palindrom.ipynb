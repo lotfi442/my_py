{
 "cells": [
  {
   "cell_type": "code",
   "execution_count": 5,
   "metadata": {},
   "outputs": [
    {
     "name": "stdout",
     "output_type": "stream",
     "text": [
      "saisir le prix ht : 10\n",
      "Le prix TTC est :  12.0\n",
      "saisir le prix ht : 11\n",
      "Le prix TTC est :  13.2\n",
      "saisir le prix ht : 7\n",
      "Le prix TTC est :  8.4\n",
      "saisir le prix ht : 0\n",
      "Le prix TTC est :  0.0\n"
     ]
    }
   ],
   "source": [
    "ht=1\n",
    "while ht != 0 :\n",
    "    ht = float(input(\"saisir le prix ht : \"))\n",
    "    ttc = ht * 1.20\n",
    "    print(\"Le prix TTC est : \",ttc)"
   ]
  },
  {
   "cell_type": "code",
   "execution_count": 2,
   "metadata": {},
   "outputs": [
    {
     "ename": "SyntaxError",
     "evalue": "Missing parentheses in call to 'print'. Did you mean print(\"Palindrome.\")? (<ipython-input-2-019f8c52c63c>, line 10)",
     "output_type": "error",
     "traceback": [
      "\u001b[0;36m  File \u001b[0;32m\"<ipython-input-2-019f8c52c63c>\"\u001b[0;36m, line \u001b[0;32m10\u001b[0m\n\u001b[0;31m    print \"Palindrome.\"\u001b[0m\n\u001b[0m                      ^\u001b[0m\n\u001b[0;31mSyntaxError\u001b[0m\u001b[0;31m:\u001b[0m Missing parentheses in call to 'print'. Did you mean print(\"Palindrome.\")?\n"
     ]
    }
   ],
   "source": [
    "for i in range(0, len(liste) + 1):\n",
    "        if chaine[i] != chaine[-i - 1]\n",
    "        print(\"pas palindrome\")"
   ]
  },
  {
   "cell_type": "code",
   "execution_count": 37,
   "metadata": {},
   "outputs": [
    {
     "name": "stdout",
     "output_type": "stream",
     "text": [
      "ce n'est pas un palindrom\n"
     ]
    }
   ],
   "source": [
    "liste1 = [1, 2, 3, 4, 3, 2, 1]\n",
    "liste2 = liste1.copy()\n",
    "liste2.reverse()\n",
    "\n",
    "x=0\n",
    "\n",
    "for i in range(len(liste1)):\n",
    "    if liste1[i]==liste2[i] :\n",
    "        x=x\n",
    "    else:\n",
    "        x=x+1\n",
    "if x==0 :\n",
    "    print(\"c'est un palindrom\")\n",
    "else :\n",
    "    print(\"ce n'est pas un palindrom\")"
   ]
  },
  {
   "cell_type": "code",
   "execution_count": 22,
   "metadata": {},
   "outputs": [
    {
     "name": "stdout",
     "output_type": "stream",
     "text": [
      "0\n",
      "2\n",
      "4\n",
      "6\n",
      "8\n"
     ]
    }
   ],
   "source": [
    "for i in range(0, 10, 2) :\n",
    "    print(i)"
   ]
  },
  {
   "cell_type": "code",
   "execution_count": null,
   "metadata": {},
   "outputs": [],
   "source": [
    "liste1 = [1, 2, 3, 4, 3, 2, 1]\n",
    "liste2 = liste1.copy()\n",
    "liste2.reverse()\n",
    "\n",
    "x=0\n",
    "\n",
    "for i in range (len(0, len(list1)):\n",
    "    if liste1[i]==liste2[i]:\n",
    "        x=x\n",
    "    else\n",
    "        x=x+1\n",
    "if x==0 :\n",
    "    print(\"c'est un palindrome\")\n",
    "else :\n",
    "    print(\"ce n'est pas un palindrome\")\n",
    "                \n"
   ]
  }
 ],
 "metadata": {
  "kernelspec": {
   "display_name": "Python 3",
   "language": "python",
   "name": "python3"
  },
  "language_info": {
   "codemirror_mode": {
    "name": "ipython",
    "version": 3
   },
   "file_extension": ".py",
   "mimetype": "text/x-python",
   "name": "python",
   "nbconvert_exporter": "python",
   "pygments_lexer": "ipython3",
   "version": "3.7.4"
  }
 },
 "nbformat": 4,
 "nbformat_minor": 2
}
