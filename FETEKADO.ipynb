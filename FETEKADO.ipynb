{
 "cells": [
  {
   "cell_type": "code",
   "execution_count": 15,
   "metadata": {},
   "outputs": [
    {
     "name": "stdout",
     "output_type": "stream",
     "text": [
      "['Hachem Mosbah', 'Denys Pes', 'Ines Dridi', 'Noemie Sauer', 'Rafk Lachaal', 'Ludovic Randon', 'Sabine Nasr', 'Samba Cisse', 'Jonathan Michel', 'Hachem Baya', 'Yoann Lucido', 'Romain Grimaldi', 'Jonathan Belletrud', 'Sacha Kojic', 'Yacine Bourezak', 'Dylan Poinsu', 'Joshua Harris', 'Daniel Kaddous']\n"
     ]
    }
   ],
   "source": [
    "import random\n",
    "\n",
    "liste = [\"Samba Cisse\", \"Rafk Lachaal\", \"Jonathan Michel\", \"Hachem Mosbah\", \"Ines Dridi\", \"Ludovic Randon\", \n",
    "\"Yoann Lucido\", \"Noemie Sauer\", \"Sabine Nasr\", \"Romain Grimaldi\", \n",
    "\"Sacha Kojic\", \"Joshua Harris\", \"Dylan Poinsu\", \"Daniel Kaddous\", \n",
    "\"Yacine Bourezak\", \"Denys Pes\", \"Jonathan Belletrud\", \"Hachem Baya\"]\n",
    "random.shuffle(liste)\n",
    "print(liste)\n",
    " \n"
   ]
  },
  {
   "cell_type": "code",
   "execution_count": 23,
   "metadata": {},
   "outputs": [
    {
     "name": "stdout",
     "output_type": "stream",
     "text": [
      "Hachem Mosbah donne son cadeau a Denys Pes\n",
      "Denys Pes donne son cadeau a Ines Dridi\n",
      "Ines Dridi donne son cadeau a Noemie Sauer\n",
      "Noemie Sauer donne son cadeau a Rafk Lachaal\n",
      "Rafk Lachaal donne son cadeau a Ludovic Randon\n",
      "Ludovic Randon donne son cadeau a Sabine Nasr\n",
      "Sabine Nasr donne son cadeau a Samba Cisse\n",
      "Samba Cisse donne son cadeau a Jonathan Michel\n",
      "Jonathan Michel donne son cadeau a Hachem Baya\n",
      "Hachem Baya donne son cadeau a Yoann Lucido\n",
      "Yoann Lucido donne son cadeau a Romain Grimaldi\n",
      "Romain Grimaldi donne son cadeau a Jonathan Belletrud\n",
      "Jonathan Belletrud donne son cadeau a Sacha Kojic\n",
      "Sacha Kojic donne son cadeau a Yacine Bourezak\n",
      "Yacine Bourezak donne son cadeau a Dylan Poinsu\n",
      "Dylan Poinsu donne son cadeau a Joshua Harris\n",
      "Joshua Harris donne son cadeau a Daniel Kaddous\n",
      "Daniel Kaddous donne son cadeau a Hachem Mosbah\n"
     ]
    }
   ],
   "source": [
    "\n",
    "for i in range(len(liste)-1) :\n",
    "    print(liste[i], \"donne son cadeau a\", liste[i+1])\n",
    "print(liste[-1], \"donne son cadeau a\", liste[0])\n",
    "\n",
    "\n",
    "\n"
   ]
  },
  {
   "cell_type": "code",
   "execution_count": null,
   "metadata": {},
   "outputs": [],
   "source": [
    "\n",
    "print(list[-1], \"donne son cadeau a : \", list[0])\n",
    "\n"
   ]
  }
 ],
 "metadata": {
  "kernelspec": {
   "display_name": "Python 3",
   "language": "python",
   "name": "python3"
  },
  "language_info": {
   "codemirror_mode": {
    "name": "ipython",
    "version": 3
   },
   "file_extension": ".py",
   "mimetype": "text/x-python",
   "name": "python",
   "nbconvert_exporter": "python",
   "pygments_lexer": "ipython3",
   "version": "3.7.4"
  }
 },
 "nbformat": 4,
 "nbformat_minor": 2
}
