{
 "cells": [
  {
   "cell_type": "code",
   "execution_count": 2,
   "metadata": {},
   "outputs": [
    {
     "name": "stdout",
     "output_type": "stream",
     "text": [
      "entrer le nombre : 5\n",
      "le nombre est impair\n"
     ]
    }
   ],
   "source": [
    "n = input(\"entrer le nombre : \")\n",
    "n = int(n)\n",
    "r = n % 2\n",
    "if(r == 0):\n",
    "    print(\"le nombre est pair\")\n",
    "else:\n",
    "    print(\"le nombre est impair\")\n",
    "    "
   ]
  },
  {
   "cell_type": "code",
   "execution_count": null,
   "metadata": {},
   "outputs": [],
   "source": [
    "ab = input(\"ab = : \")\n",
    "bc = input(\"bc = : \")\n",
    "ac =input (\"ac = : \")\n",
    "hyp = (bc * bc)\n",
    "#ab = int(ab)\n",
    "#bc = int(bc)\n",
    "#ac = int(ac)\n",
    "\n",
    "if ((ab*ab) == (bc*bc) + (ac*ac)) or ((bc * bc) == (ab*ab) + (ac*ac)) or ((ac*ac) == (ab*ab) + (bc*bc)):\n",
    "    print(\"Le triangle est rectangle\")\n",
    "else:\n",
    "    print(\"Le triangle n'est pas rectangle\")"
   ]
  },
  {
   "cell_type": "code",
   "execution_count": null,
   "metadata": {},
   "outputs": [],
   "source": []
  },
  {
   "cell_type": "code",
   "execution_count": null,
   "metadata": {},
   "outputs": [],
   "source": []
  }
 ],
 "metadata": {
  "kernelspec": {
   "display_name": "Python 3",
   "language": "python",
   "name": "python3"
  },
  "language_info": {
   "codemirror_mode": {
    "name": "ipython",
    "version": 3
   },
   "file_extension": ".py",
   "mimetype": "text/x-python",
   "name": "python",
   "nbconvert_exporter": "python",
   "pygments_lexer": "ipython3",
   "version": "3.7.4"
  }
 },
 "nbformat": 4,
 "nbformat_minor": 2
}
